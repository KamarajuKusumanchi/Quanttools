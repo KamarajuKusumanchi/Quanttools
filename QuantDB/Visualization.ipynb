{
 "cells": [
  {
   "cell_type": "markdown",
   "metadata": {
    "collapsed": true
   },
   "source": [
    "## Visualizing the stock market structure"
   ]
  },
  {
   "cell_type": "code",
   "execution_count": null,
   "metadata": {},
   "outputs": [],
   "source": [
    "from __future__ import print_function\n",
    "\n",
    "import pandas as pd\n",
    "import MySQLdb as mdb\n",
    "\n",
    "\n",
    "if __name__ == \"__main__\":\n",
    "    # Connect to the MySQL instance\n",
    "    db_host = 'localhost'\n",
    "    db_user = 'sec_user'\n",
    "    db_pass = 'password'\n",
    "    db_name = 'securities_master'\n",
    "    con = mdb.connect(db_host, db_user, db_pass, db_name)\n",
    "\n",
    "    # Select all of the historic Google adjusted close data\n",
    "    sql = \"\"\"SELECT dp.price_date, dp.adj_close_price\n",
    "             FROM symbol AS sym\n",
    "             INNER JOIN daily_price AS dp\n",
    "             ON dp.symbol_id = sym.id\n",
    "             WHERE sym.ticker = 'GOOG'\n",
    "             ORDER BY dp.price_date ASC;\"\"\"\n",
    "\n",
    "    # Create a pandas dataframe from the SQL query\n",
    "    goog = pd.read_sql_query(sql, con=con, index_col='price_date')    \n",
    "\n",
    "    # Output the dataframe tail\n",
    "    print(goog.tail())\n"
   ]
  }
 ],
 "metadata": {
  "kernelspec": {
   "display_name": "Python 2",
   "language": "python",
   "name": "python2"
  },
  "language_info": {
   "codemirror_mode": {
    "name": "ipython",
    "version": 2
   },
   "file_extension": ".py",
   "mimetype": "text/x-python",
   "name": "python",
   "nbconvert_exporter": "python",
   "pygments_lexer": "ipython2",
   "version": "2.7.6"
  }
 },
 "nbformat": 4,
 "nbformat_minor": 0
}
